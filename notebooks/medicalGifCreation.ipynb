{
 "cells": [
  {
   "cell_type": "code",
   "execution_count": 1,
   "metadata": {},
   "outputs": [],
   "source": [
    "from monai.apps import DecathlonDataset\n",
    "import nibabel as nib\n",
    "from pathlib import Path\n",
    "import pandas as pd\n",
    "from PIL import Image\n",
    "import numpy as np\n",
    "import matplotlib.pyplot as plt"
   ]
  },
  {
   "cell_type": "code",
   "execution_count": 2,
   "metadata": {},
   "outputs": [
    {
     "name": "stdout",
     "output_type": "stream",
     "text": [
      "2023-04-18 15:35:48,051 - INFO - Verified 'Task01_BrainTumour.tar', md5: 240a19d752f0d9e9101544901065d872.\n",
      "2023-04-18 15:35:48,052 - INFO - File exists: c:\\Users\\47472\\Documents\\Skole\\Hvl\\s6\\dat255\\courseProject\\data\\Task01_BrainTumour.tar, skipped downloading.\n",
      "2023-04-18 15:35:48,053 - INFO - Non-empty folder exists in c:\\Users\\47472\\Documents\\Skole\\Hvl\\s6\\dat255\\courseProject\\data\\Task01_BrainTumour, skipped extracting.\n"
     ]
    }
   ],
   "source": [
    "module_path = str(Path.cwd().parents[0] / \"data\")\n",
    "training_data = DecathlonDataset(root_dir=module_path, task=\"Task01_BrainTumour\", section=\"training\", \n",
    "    download=True, cache_num=0, num_workers=3)"
   ]
  },
  {
   "cell_type": "code",
   "execution_count": 3,
   "metadata": {},
   "outputs": [
    {
     "data": {
      "text/plain": [
       "(388, 2)"
      ]
     },
     "execution_count": 3,
     "metadata": {},
     "output_type": "execute_result"
    }
   ],
   "source": [
    "df = pd.DataFrame(training_data.data)\n",
    "df.shape"
   ]
  },
  {
   "cell_type": "code",
   "execution_count": 4,
   "metadata": {},
   "outputs": [
    {
     "data": {
      "text/html": [
       "<div>\n",
       "<style scoped>\n",
       "    .dataframe tbody tr th:only-of-type {\n",
       "        vertical-align: middle;\n",
       "    }\n",
       "\n",
       "    .dataframe tbody tr th {\n",
       "        vertical-align: top;\n",
       "    }\n",
       "\n",
       "    .dataframe thead th {\n",
       "        text-align: right;\n",
       "    }\n",
       "</style>\n",
       "<table border=\"1\" class=\"dataframe\">\n",
       "  <thead>\n",
       "    <tr style=\"text-align: right;\">\n",
       "      <th></th>\n",
       "      <th>image</th>\n",
       "      <th>label</th>\n",
       "    </tr>\n",
       "  </thead>\n",
       "  <tbody>\n",
       "    <tr>\n",
       "      <th>0</th>\n",
       "      <td>c:\\Users\\47472\\Documents\\Skole\\Hvl\\s6\\dat255\\c...</td>\n",
       "      <td>c:\\Users\\47472\\Documents\\Skole\\Hvl\\s6\\dat255\\c...</td>\n",
       "    </tr>\n",
       "    <tr>\n",
       "      <th>1</th>\n",
       "      <td>c:\\Users\\47472\\Documents\\Skole\\Hvl\\s6\\dat255\\c...</td>\n",
       "      <td>c:\\Users\\47472\\Documents\\Skole\\Hvl\\s6\\dat255\\c...</td>\n",
       "    </tr>\n",
       "    <tr>\n",
       "      <th>2</th>\n",
       "      <td>c:\\Users\\47472\\Documents\\Skole\\Hvl\\s6\\dat255\\c...</td>\n",
       "      <td>c:\\Users\\47472\\Documents\\Skole\\Hvl\\s6\\dat255\\c...</td>\n",
       "    </tr>\n",
       "    <tr>\n",
       "      <th>3</th>\n",
       "      <td>c:\\Users\\47472\\Documents\\Skole\\Hvl\\s6\\dat255\\c...</td>\n",
       "      <td>c:\\Users\\47472\\Documents\\Skole\\Hvl\\s6\\dat255\\c...</td>\n",
       "    </tr>\n",
       "    <tr>\n",
       "      <th>4</th>\n",
       "      <td>c:\\Users\\47472\\Documents\\Skole\\Hvl\\s6\\dat255\\c...</td>\n",
       "      <td>c:\\Users\\47472\\Documents\\Skole\\Hvl\\s6\\dat255\\c...</td>\n",
       "    </tr>\n",
       "  </tbody>\n",
       "</table>\n",
       "</div>"
      ],
      "text/plain": [
       "                                               image  \\\n",
       "0  c:\\Users\\47472\\Documents\\Skole\\Hvl\\s6\\dat255\\c...   \n",
       "1  c:\\Users\\47472\\Documents\\Skole\\Hvl\\s6\\dat255\\c...   \n",
       "2  c:\\Users\\47472\\Documents\\Skole\\Hvl\\s6\\dat255\\c...   \n",
       "3  c:\\Users\\47472\\Documents\\Skole\\Hvl\\s6\\dat255\\c...   \n",
       "4  c:\\Users\\47472\\Documents\\Skole\\Hvl\\s6\\dat255\\c...   \n",
       "\n",
       "                                               label  \n",
       "0  c:\\Users\\47472\\Documents\\Skole\\Hvl\\s6\\dat255\\c...  \n",
       "1  c:\\Users\\47472\\Documents\\Skole\\Hvl\\s6\\dat255\\c...  \n",
       "2  c:\\Users\\47472\\Documents\\Skole\\Hvl\\s6\\dat255\\c...  \n",
       "3  c:\\Users\\47472\\Documents\\Skole\\Hvl\\s6\\dat255\\c...  \n",
       "4  c:\\Users\\47472\\Documents\\Skole\\Hvl\\s6\\dat255\\c...  "
      ]
     },
     "execution_count": 4,
     "metadata": {},
     "output_type": "execute_result"
    }
   ],
   "source": [
    "df.head()"
   ]
  },
  {
   "cell_type": "code",
   "execution_count": 5,
   "metadata": {},
   "outputs": [
    {
     "name": "stdout",
     "output_type": "stream",
     "text": [
      "(240, 240, 155, 4) (240, 240, 155)\n",
      "float64 float64\n",
      "(240, 240, 155, 4) (240, 240, 155)\n",
      "uint8 uint8\n"
     ]
    }
   ],
   "source": [
    "imgage = nib.load(df.image[0]).get_fdata()\n",
    "mask = nib.load(df.label[0]).get_fdata()\n",
    "print(imgage.shape, mask.shape)\n",
    "print(imgage.dtype, mask.dtype)\n",
    "imgage = imgage.astype(np.uint8)\n",
    "mask = mask.astype(np.uint8)\n",
    "print(imgage.shape, mask.shape)\n",
    "print(imgage.dtype, mask.dtype)"
   ]
  },
  {
   "cell_type": "code",
   "execution_count": 6,
   "metadata": {},
   "outputs": [
    {
     "data": {
      "image/png": "[encoded data removed]",
      "text/plain": [
       "<PIL.Image.Image image mode=L size=960x240>"
      ]
     },
     "execution_count": 6,
     "metadata": {},
     "output_type": "execute_result"
    }
   ],
   "source": [
    "Image.fromarray(np.concatenate((imgage[:, :, 0, 0], imgage[:, :, 0, 1], imgage[:, :, 0, 2], imgage[:, :, 0, 3]), axis=1))"
   ]
  },
  {
   "cell_type": "code",
   "execution_count": 7,
   "metadata": {},
   "outputs": [
    {
     "data": {
      "image/png": "[encoded data removed]",
      "text/plain": [
       "<PIL.Image.Image image mode=L size=240x155>"
      ]
     },
     "execution_count": 7,
     "metadata": {},
     "output_type": "execute_result"
    }
   ],
   "source": [
    "Image.fromarray(np.rot90(np.rot90(imgage, axes=(1,2)),axes=(1,0))[:, :, 30, 0])"
   ]
  },
  {
   "cell_type": "code",
   "execution_count": 8,
   "metadata": {},
   "outputs": [
    {
     "data": {
      "image/png": "[encoded data removed]",
      "text/plain": [
       "<PIL.Image.Image image mode=L size=240x240>"
      ]
     },
     "execution_count": 8,
     "metadata": {},
     "output_type": "execute_result"
    }
   ],
   "source": [
    "Image.fromarray(imgage[:, :, 0, 0])"
   ]
  },
  {
   "cell_type": "code",
   "execution_count": 9,
   "metadata": {},
   "outputs": [
    {
     "data": {
      "text/plain": [
       "array([0, 1, 2, 3], dtype=uint8)"
      ]
     },
     "execution_count": 9,
     "metadata": {},
     "output_type": "execute_result"
    }
   ],
   "source": [
    "np.unique(mask)"
   ]
  },
  {
   "cell_type": "code",
   "execution_count": 10,
   "metadata": {},
   "outputs": [
    {
     "data": {
      "text/plain": [
       "4730"
      ]
     },
     "execution_count": 10,
     "metadata": {},
     "output_type": "execute_result"
    }
   ],
   "source": [
    "np.sum(mask[:,:,75:76])"
   ]
  },
  {
   "cell_type": "code",
   "execution_count": 11,
   "metadata": {},
   "outputs": [
    {
     "data": {
      "text/plain": [
       "<matplotlib.image.AxesImage at 0x284bdf89d30>"
      ]
     },
     "execution_count": 11,
     "metadata": {},
     "output_type": "execute_result"
    },
    {
     "data": {
      "image/png": "[encoded data removed]",
      "text/plain": [
       "<Figure size 1440x720 with 1 Axes>"
      ]
     },
     "metadata": {
      "needs_background": "light"
     },
     "output_type": "display_data"
    }
   ],
   "source": [
    "concatinated = np.concatenate((\n",
    "    mask[:,:,75],\n",
    "    np.reshape([x if x == 1 else 0 for x in mask[:,:,75].flatten()], (240,240)),\n",
    "    np.reshape([x if x == 2 else 0 for x in mask[:,:,75].flatten()], (240,240)),\n",
    "    np.reshape([x if x == 3 else 0 for x in mask[:,:,75].flatten()], (240,240))),\n",
    "                axis=1)\n",
    "plt.figure(figsize=(20,10))\n",
    "plt.imshow(concatinated)"
   ]
  },
  {
   "cell_type": "code",
   "execution_count": 12,
   "metadata": {},
   "outputs": [
    {
     "data": {
      "text/plain": [
       "<matplotlib.image.AxesImage at 0x284be439d30>"
      ]
     },
     "execution_count": 12,
     "metadata": {},
     "output_type": "execute_result"
    },
    {
     "data": {
      "image/png": "[encoded data removed]",
      "text/plain": [
       "<Figure size 432x288 with 1 Axes>"
      ]
     },
     "metadata": {
      "needs_background": "light"
     },
     "output_type": "display_data"
    }
   ],
   "source": [
    "plt.imshow(np.reshape([x if x == 3 else 0 for x in mask[:,:,75].flatten()], (240,240)))"
   ]
  },
  {
   "cell_type": "code",
   "execution_count": 13,
   "metadata": {},
   "outputs": [
    {
     "data": {
      "text/plain": [
       "<matplotlib.image.AxesImage at 0x284be041d30>"
      ]
     },
     "execution_count": 13,
     "metadata": {},
     "output_type": "execute_result"
    },
    {
     "data": {
      "image/png": "[encoded data removed]",
      "text/plain": [
       "<Figure size 432x288 with 1 Axes>"
      ]
     },
     "metadata": {
      "needs_background": "light"
     },
     "output_type": "display_data"
    }
   ],
   "source": [
    "plt.imshow(mask[:,:,75])"
   ]
  },
  {
   "cell_type": "code",
   "execution_count": 14,
   "metadata": {},
   "outputs": [
    {
     "data": {
      "image/png": "[encoded data removed]",
      "text/plain": [
       "<PIL.Image.Image image mode=L size=240x240>"
      ]
     },
     "execution_count": 14,
     "metadata": {},
     "output_type": "execute_result"
    }
   ],
   "source": [
    "Image.fromarray(np.uint8(np.reshape([255 if x == 3 else 0 for x in mask[:,:,75].flatten()], (240,240))))"
   ]
  },
  {
   "cell_type": "code",
   "execution_count": 15,
   "metadata": {},
   "outputs": [
    {
     "data": {
      "image/png": "[encoded data removed]",
      "text/plain": [
       "<PIL.Image.Image image mode=L size=240x240>"
      ]
     },
     "execution_count": 15,
     "metadata": {},
     "output_type": "execute_result"
    }
   ],
   "source": [
    "Image.fromarray(np.uint8(mask[:,:,75])*255)"
   ]
  },
  {
   "cell_type": "code",
   "execution_count": 16,
   "metadata": {},
   "outputs": [],
   "source": [
    "#Plots all different layers in image side by side\n",
    "def sideBySidePlot(imgage):\n",
    "    imgage = np.flip(np.rot90(imgage,axes=(1,0)), axis=1)\n",
    "    mng = np.concatenate(([imgage[:,:,:,x] for x in range(imgage.shape[3])]), axis=1)\n",
    "    frames = [Image.fromarray(mng[:, :, (mng.shape[2]-i-1)]) for i in range(mng.shape[2])]\n",
    "    frame_one = frames[0]\n",
    "    frame_one.save(\"images/brain/BrainTumour.gif\", format=\"GIF\", append_images=frames,\n",
    "               save_all=True, duration=0.01, loop=0)\n",
    "sideBySidePlot(imgage)"
   ]
  },
  {
   "cell_type": "code",
   "execution_count": 17,
   "metadata": {},
   "outputs": [],
   "source": [
    "#plots single image layer side by side with combined mask\n",
    "def maskPlot(mask, image):\n",
    "    image = np.flip(np.rot90(image,axes=(1,0)), axis=1)\n",
    "    image = image[:,:,:,0]\n",
    "\n",
    "    mask = np.flip(np.rot90(mask,axes=(1,0)), axis=1)\n",
    "    mask = np.uint8(mask)*255\n",
    "    \n",
    "    combined = np.concatenate((image, mask), axis=1)\n",
    "    frames = [Image.fromarray(combined[:, :, (combined.shape[2]-i-1)]) for i in range(combined.shape[2])]\n",
    "    frame_one = frames[0]\n",
    "    frame_one.save(\"images/brain/BrainTumourMask.gif\", format=\"GIF\", append_images=frames,\n",
    "               save_all=True, duration=0.01, loop=0)\n",
    "maskPlot(mask, imgage)"
   ]
  },
  {
   "cell_type": "code",
   "execution_count": 18,
   "metadata": {},
   "outputs": [],
   "source": [
    "#plots all image layers with all + combined mask layer()\n",
    "def multiMaskPlot(mask, image):\n",
    "    image = np.flip(np.rot90(image,axes=(1,0)), axis=1)\n",
    "    image = np.concatenate((image[:, :, :, 0], image[:, :, :, 1], image[:, :, :, 2], image[:, :, :, 3]), axis=1)\n",
    "\n",
    "    mask = np.flip(np.rot90(mask,axes=(1,0)), axis=1)\n",
    "    concat_arrays = [\n",
    "        mask,\n",
    "        np.where(mask == 1, 1, 0),\n",
    "        np.where(mask == 2, 2, 0),\n",
    "        np.where(mask == 3, 3, 0)\n",
    "    ]\n",
    "    concatinated = np.concatenate(concat_arrays, axis=1)\n",
    "    concatinated = np.uint8(concatinated)*255\n",
    "    combined = np.concatenate((image,concatinated) , axis=0)\n",
    "    frames = [Image.fromarray(combined[:, :, (combined.shape[2]-i-1)]) for i in range(combined.shape[2])]\n",
    "    frame_one = frames[0]\n",
    "    frame_one.save(\"images/brain/MultiBrainTumourMask.gif\", format=\"GIF\", append_images=frames,\n",
    "               save_all=True, duration=0.01, loop=0)\n",
    "multiMaskPlot(mask, imgage)"
   ]
  },
  {
   "cell_type": "code",
   "execution_count": 19,
   "metadata": {},
   "outputs": [],
   "source": [
    "#function to rotate brain facing left to face head on\n",
    "def getFrontal(imgage):\n",
    "    return np.flip(np.rot90(np.rot90(imgage, axes=(1,2)), k=3,axes=(1,0)))"
   ]
  },
  {
   "cell_type": "code",
   "execution_count": 20,
   "metadata": {},
   "outputs": [],
   "source": [
    "#plots frontal image layers side by side\n",
    "def frontal(imgage):\n",
    "    mng = np.flip(getFrontal(imgage), axis=1)\n",
    "    combined = np.concatenate(([mng[:,:,:,x] for x in reversed(range(mng.shape[3]))]), axis=1)\n",
    "\n",
    "    frames = [Image.fromarray(combined[:, :, i]) for i in range(combined.shape[2])]\n",
    "    frame_one = frames[0]\n",
    "    frame_one.save(\"images/brain/Frontal.gif\", format=\"GIF\", append_images=frames,\n",
    "               save_all=True, duration=0.01, loop=0)\n",
    "frontal(imgage)"
   ]
  },
  {
   "cell_type": "code",
   "execution_count": 21,
   "metadata": {},
   "outputs": [],
   "source": [
    "#plots frontal mask layers side by side\n",
    "def frontalMask(mask):\n",
    "    mask = np.flip(getFrontal(mask), axis=1)\n",
    "    concat_arrays = [\n",
    "        mask,\n",
    "        np.where(mask == 1, 1, 0),\n",
    "        np.where(mask == 2, 2, 0),\n",
    "        np.where(mask == 3, 3, 0)\n",
    "    ]\n",
    "    concatinated = np.concatenate(concat_arrays, axis=1)\n",
    "    concatinated = np.uint8(concatinated) * 255\n",
    "    frames = [Image.fromarray(concatinated[:, :, i]) for i in range(concatinated.shape[2])]\n",
    "    frames[0].save(\"images/brain/FrontalMask.gif\", format=\"GIF\", append_images=frames[1:],\n",
    "                   save_all=True, duration=0.01, loop=0)\n",
    "frontalMask(mask)"
   ]
  },
  {
   "cell_type": "code",
   "execution_count": 22,
   "metadata": {},
   "outputs": [],
   "source": [
    "#plots frontal image and mask\n",
    "def combinedFront(imgage, mask):\n",
    "    imgage = np.flip(getFrontal(imgage), axis=1)\n",
    "    mask = np.flip(getFrontal(mask), axis=1)\n",
    "    imgage = np.concatenate([imgage[:, :, :, x] for x in reversed(range(imgage.shape[3]))], axis=1)\n",
    "\n",
    "    concat_arrays = [\n",
    "        mask,\n",
    "        np.where(mask == 1, 1, 0),\n",
    "        np.where(mask == 2, 2, 0),\n",
    "        np.where(mask == 3, 3, 0)\n",
    "    ]\n",
    "    concatinated = np.concatenate(concat_arrays, axis=1)\n",
    "    concatinated = np.uint8(concatinated) * 255\n",
    "\n",
    "    combined = np.concatenate((imgage, concatinated), axis=0)\n",
    "\n",
    "    frames = [Image.fromarray(combined[:, :, i]) for i in range(combined.shape[2])]\n",
    "    frames[0].save(\"images/brain/FrontalMaskCombined.gif\", format=\"GIF\", append_images=frames[1:],\n",
    "                   save_all=True, duration=0.01, loop=0)\n",
    "combinedFront(imgage, mask)    "
   ]
  },
  {
   "cell_type": "code",
   "execution_count": 23,
   "metadata": {},
   "outputs": [
    {
     "name": "stdout",
     "output_type": "stream",
     "text": [
      "(310, 960, 240) (650, 960, 240)\n"
     ]
    }
   ],
   "source": [
    "#plots everything in a massive image:)\n",
    "def everythingCombined(imgage, mask):\n",
    "    #========== Frontal\n",
    "    frontImgage = np.flip(getFrontal(imgage), axis=1)\n",
    "    frontMask = np.flip(getFrontal(mask), axis=1)\n",
    "    frontImgage = np.concatenate(([frontImgage[:,:,:,x] for x in reversed(range(frontImgage.shape[3]))]), axis=1)\n",
    "\n",
    "\n",
    "    concat_arrays = [\n",
    "            frontMask,\n",
    "            np.where(frontMask == 1, 1, 0),\n",
    "            np.where(frontMask == 2, 2, 0),\n",
    "            np.where(frontMask == 3, 3, 0)\n",
    "        ]\n",
    "    concatenated = np.concatenate(concat_arrays, axis=1)\n",
    "    concatenated = np.uint8(concatenated)*255\n",
    "\n",
    "    frontal = np.concatenate((frontImgage, concatenated), axis=0)\n",
    "    #============\n",
    "\n",
    "    image = np.flip(np.rot90(imgage, axes=(1, 0)), axis=1)\n",
    "    image = np.concatenate(([image[:,:,:,x] for x in range(image.shape[3])]), axis=1)\n",
    "\n",
    "    maskk = np.flip(np.rot90(mask, axes=(1, 0)), axis=1)\n",
    "    concat_arrays = [\n",
    "            maskk,\n",
    "            np.where(maskk == 1, 1, 0),\n",
    "            np.where(maskk == 2, 2, 0),\n",
    "            np.where(maskk == 3, 3, 0)\n",
    "        ]\n",
    "    concatenated = np.concatenate(concat_arrays, axis=1)\n",
    "    concatenated = np.pad(np.uint8(concatenated)*255, ((85,85), (0,0), (0,0)))\n",
    "    combined = np.pad(np.concatenate((image, concatenated), axis=0), ((0,0), (0,0), (42,43)))\n",
    "\n",
    "    print(frontal.shape, combined.shape)\n",
    "\n",
    "    x = np.concatenate((combined[:,:,::-1], frontal), axis=0)\n",
    "\n",
    "    frames = [Image.fromarray(x[:, :, i]) for i in range(x.shape[2])]\n",
    "    frame_one = frames[0]\n",
    "    frame_one.save(\"images/brain/EverythingCombined.gif\", format=\"GIF\", append_images=frames,\n",
    "                save_all=True, duration=0.01, loop=0)\n",
    "everythingCombined(imgage, mask)"
   ]
  }
 ],
 "metadata": {
  "kernelspec": {
   "display_name": "Python 3",
   "language": "python",
   "name": "python3"
  },
  "language_info": {
   "codemirror_mode": {
    "name": "ipython",
    "version": 3
   },
   "file_extension": ".py",
   "mimetype": "text/x-python",
   "name": "python",
   "nbconvert_exporter": "python",
   "pygments_lexer": "ipython3",
   "version": "3.9.6"
  },
  "orig_nbformat": 4,
  "vscode": {
   "interpreter": {
    "hash": "e9fb61b4c72117f5d7b2c8d6242145ec5a71ca8cd00b47ff0a0694a5bc1f5f2f"
   }
  }
 },
 "nbformat": 4,
 "nbformat_minor": 2
}
